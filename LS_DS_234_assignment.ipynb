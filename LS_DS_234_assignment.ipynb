{
  "nbformat": 4,
  "nbformat_minor": 0,
  "metadata": {
    "kernelspec": {
      "display_name": "Python 3",
      "language": "python",
      "name": "python3"
    },
    "language_info": {
      "codemirror_mode": {
        "name": "ipython",
        "version": 3
      },
      "file_extension": ".py",
      "mimetype": "text/x-python",
      "name": "python",
      "nbconvert_exporter": "python",
      "pygments_lexer": "ipython3",
      "version": "3.7.6"
    },
    "colab": {
      "name": "LS_DS_234_assignment.ipynb",
      "provenance": [],
      "include_colab_link": true
    }
  },
  "cells": [
    {
      "cell_type": "markdown",
      "metadata": {
        "id": "view-in-github",
        "colab_type": "text"
      },
      "source": [
        "<a href=\"https://colab.research.google.com/github/cdixson-ds/DS-Unit-2-Applied-Modeling/blob/master/LS_DS_234_assignment.ipynb\" target=\"_parent\"><img src=\"https://colab.research.google.com/assets/colab-badge.svg\" alt=\"Open In Colab\"/></a>"
      ]
    },
    {
      "cell_type": "markdown",
      "metadata": {
        "id": "0jYIJWTIaoHi",
        "colab_type": "text"
      },
      "source": [
        "\n",
        "Lambda School Data Science\n",
        "\n",
        "*Unit 2, Sprint 3, Module 4*\n",
        "\n",
        "---"
      ]
    },
    {
      "cell_type": "markdown",
      "metadata": {
        "id": "3xTkAQEQaoHt",
        "colab_type": "text"
      },
      "source": [
        "# Model Interpretation\n",
        "\n",
        "You will use your portfolio project dataset for all assignments this sprint.\n",
        "\n",
        "## Assignment\n",
        "\n",
        "Complete these tasks for your project, and document your work.\n",
        "\n",
        "- [ ] Continue to iterate on your project: data cleaning, exploratory visualization, feature engineering, modeling.\n",
        "- [ ] Make at least 1 partial dependence plot to explain your model.\n",
        "- [ ] Make at least 1 Shapley force plot to explain an individual prediction.\n",
        "- [ ] **Share at least 1 visualization (of any type) on Slack!**\n",
        "\n",
        "If you aren't ready to make these plots with your own dataset, you can practice these objectives with any dataset you've worked with previously. Example solutions are available for Partial Dependence Plots with the Tanzania Waterpumps dataset, and Shapley force plots with the Titanic dataset. (These datasets are available in the data directory of this repository.)\n",
        "\n",
        "Please be aware that **multi-class classification** will result in multiple Partial Dependence Plots (one for each class), and multiple sets of Shapley Values (one for each class)."
      ]
    },
    {
      "cell_type": "markdown",
      "metadata": {
        "id": "4cunHBZ1aoHz",
        "colab_type": "text"
      },
      "source": [
        "## Stretch Goals\n",
        "\n",
        "#### Partial Dependence Plots\n",
        "- [ ] Make multiple PDPs with 1 feature in isolation.\n",
        "- [ ] Make multiple PDPs with 2 features in interaction. \n",
        "- [ ] Use Plotly to make a 3D PDP.\n",
        "- [ ] Make PDPs with categorical feature(s). Use Ordinal Encoder, outside of a pipeline, to encode your data first. If there is a natural ordering, then take the time to encode it that way, instead of random integers. Then use the encoded data with pdpbox. Get readable category names on your plot, instead of integer category codes.\n",
        "\n",
        "#### Shap Values\n",
        "- [ ] Make Shapley force plots to explain at least 4 individual predictions.\n",
        "    - If your project is Binary Classification, you can do a True Positive, True Negative, False Positive, False Negative.\n",
        "    - If your project is Regression, you can do a high prediction with low error, a low prediction with low error, a high prediction with high error, and a low prediction with high error.\n",
        "- [ ] Use Shapley values to display verbal explanations of individual predictions.\n",
        "- [ ] Use the SHAP library for other visualization types.\n",
        "\n",
        "The [SHAP repo](https://github.com/slundberg/shap) has examples for many visualization types, including:\n",
        "\n",
        "- Force Plot, individual predictions\n",
        "- Force Plot, multiple predictions\n",
        "- Dependence Plot\n",
        "- Summary Plot\n",
        "- Summary Plot, Bar\n",
        "- Interaction Values\n",
        "- Decision Plots\n",
        "\n",
        "We just did the first type during the lesson. The [Kaggle microcourse](https://www.kaggle.com/dansbecker/advanced-uses-of-shap-values) shows two more. Experiment and see what you can learn!"
      ]
    },
    {
      "cell_type": "markdown",
      "metadata": {
        "id": "hQbZMOyxaoH4",
        "colab_type": "text"
      },
      "source": [
        "### Links\n",
        "\n",
        "#### Partial Dependence Plots\n",
        "- [Kaggle / Dan Becker: Machine Learning Explainability — Partial Dependence Plots](https://www.kaggle.com/dansbecker/partial-plots)\n",
        "- [Christoph Molnar: Interpretable Machine Learning — Partial Dependence Plots](https://christophm.github.io/interpretable-ml-book/pdp.html) + [animated explanation](https://twitter.com/ChristophMolnar/status/1066398522608635904)\n",
        "- [pdpbox repo](https://github.com/SauceCat/PDPbox) & [docs](https://pdpbox.readthedocs.io/en/latest/)\n",
        "- [Plotly: 3D PDP example](https://plot.ly/scikit-learn/plot-partial-dependence/#partial-dependence-of-house-value-on-median-age-and-average-occupancy)\n",
        "\n",
        "#### Shapley Values\n",
        "- [Kaggle / Dan Becker: Machine Learning Explainability — SHAP Values](https://www.kaggle.com/learn/machine-learning-explainability)\n",
        "- [Christoph Molnar: Interpretable Machine Learning — Shapley Values](https://christophm.github.io/interpretable-ml-book/shapley.html)\n",
        "- [SHAP repo](https://github.com/slundberg/shap) & [docs](https://shap.readthedocs.io/en/latest/)"
      ]
    },
    {
      "cell_type": "code",
      "metadata": {
        "id": "Sb0byfgUaoIp",
        "colab_type": "code",
        "colab": {}
      },
      "source": [
        "%%capture\n",
        "import sys\n",
        "\n",
        "# If you're on Colab:\n",
        "if 'google.colab' in sys.modules:\n",
        "    DATA_PATH = 'https://raw.githubusercontent.com/LambdaSchool/DS-Unit-2-Applied-Modeling/master/data/'\n",
        "    !pip install category_encoders==2.*\n",
        "    !pip install eli5\n",
        "    !pip install pdpbox\n",
        "    !pip install shap\n",
        "\n",
        "# If you're working locally:\n",
        "else:\n",
        "    DATA_PATH = '../data/'"
      ],
      "execution_count": 0,
      "outputs": []
    },
    {
      "cell_type": "code",
      "metadata": {
        "id": "sgggOLDmaoI7",
        "colab_type": "code",
        "colab": {}
      },
      "source": [
        "import pandas as pd\n",
        "\n",
        "df_basic = pd.read_csv('https://datasets.imdbws.com/title.basics.tsv.gz', sep='\\t', na_values=[r'\\N','\\\\N'], low_memory=False)\n",
        "df_rating = pd.read_csv('https://datasets.imdbws.com/title.ratings.tsv.gz', sep='\\t', na_values=[r'\\N','\\\\N'], low_memory=False)"
      ],
      "execution_count": 0,
      "outputs": []
    },
    {
      "cell_type": "code",
      "metadata": {
        "id": "x2pABumo6_qv",
        "colab_type": "code",
        "outputId": "0f00fac3-2766-4003-9913-aa722a0da872",
        "colab": {
          "base_uri": "https://localhost:8080/",
          "height": 35
        }
      },
      "source": [
        "#Look at the shape of both dataframes\n",
        "\n",
        "df_basic.shape, df_rating.shape"
      ],
      "execution_count": 70,
      "outputs": [
        {
          "output_type": "execute_result",
          "data": {
            "text/plain": [
              "((6508423, 9), (1020202, 3))"
            ]
          },
          "metadata": {
            "tags": []
          },
          "execution_count": 70
        }
      ]
    },
    {
      "cell_type": "code",
      "metadata": {
        "id": "JqDJJJcK7B96",
        "colab_type": "code",
        "colab": {}
      },
      "source": [
        "#Merged here because I would have to strip 'tconst' in both datasets to \n",
        "#perform a merger\n",
        "\n",
        "df_imdb = pd.merge(df_basic, df_rating, on='tconst')"
      ],
      "execution_count": 0,
      "outputs": []
    },
    {
      "cell_type": "code",
      "metadata": {
        "id": "qURuhxc47D8Z",
        "colab_type": "code",
        "outputId": "588ea930-fb61-4eec-9fbc-3c04757e580f",
        "colab": {
          "base_uri": "https://localhost:8080/",
          "height": 198
        }
      },
      "source": [
        "df_imdb.head()"
      ],
      "execution_count": 72,
      "outputs": [
        {
          "output_type": "execute_result",
          "data": {
            "text/html": [
              "<div>\n",
              "<style scoped>\n",
              "    .dataframe tbody tr th:only-of-type {\n",
              "        vertical-align: middle;\n",
              "    }\n",
              "\n",
              "    .dataframe tbody tr th {\n",
              "        vertical-align: top;\n",
              "    }\n",
              "\n",
              "    .dataframe thead th {\n",
              "        text-align: right;\n",
              "    }\n",
              "</style>\n",
              "<table border=\"1\" class=\"dataframe\">\n",
              "  <thead>\n",
              "    <tr style=\"text-align: right;\">\n",
              "      <th></th>\n",
              "      <th>tconst</th>\n",
              "      <th>titleType</th>\n",
              "      <th>primaryTitle</th>\n",
              "      <th>originalTitle</th>\n",
              "      <th>isAdult</th>\n",
              "      <th>startYear</th>\n",
              "      <th>endYear</th>\n",
              "      <th>runtimeMinutes</th>\n",
              "      <th>genres</th>\n",
              "      <th>averageRating</th>\n",
              "      <th>numVotes</th>\n",
              "    </tr>\n",
              "  </thead>\n",
              "  <tbody>\n",
              "    <tr>\n",
              "      <th>0</th>\n",
              "      <td>tt0000001</td>\n",
              "      <td>short</td>\n",
              "      <td>Carmencita</td>\n",
              "      <td>Carmencita</td>\n",
              "      <td>0</td>\n",
              "      <td>1894.0</td>\n",
              "      <td>NaN</td>\n",
              "      <td>1</td>\n",
              "      <td>Documentary,Short</td>\n",
              "      <td>5.6</td>\n",
              "      <td>1578</td>\n",
              "    </tr>\n",
              "    <tr>\n",
              "      <th>1</th>\n",
              "      <td>tt0000002</td>\n",
              "      <td>short</td>\n",
              "      <td>Le clown et ses chiens</td>\n",
              "      <td>Le clown et ses chiens</td>\n",
              "      <td>0</td>\n",
              "      <td>1892.0</td>\n",
              "      <td>NaN</td>\n",
              "      <td>5</td>\n",
              "      <td>Animation,Short</td>\n",
              "      <td>6.1</td>\n",
              "      <td>189</td>\n",
              "    </tr>\n",
              "    <tr>\n",
              "      <th>2</th>\n",
              "      <td>tt0000003</td>\n",
              "      <td>short</td>\n",
              "      <td>Pauvre Pierrot</td>\n",
              "      <td>Pauvre Pierrot</td>\n",
              "      <td>0</td>\n",
              "      <td>1892.0</td>\n",
              "      <td>NaN</td>\n",
              "      <td>4</td>\n",
              "      <td>Animation,Comedy,Romance</td>\n",
              "      <td>6.5</td>\n",
              "      <td>1242</td>\n",
              "    </tr>\n",
              "    <tr>\n",
              "      <th>3</th>\n",
              "      <td>tt0000004</td>\n",
              "      <td>short</td>\n",
              "      <td>Un bon bock</td>\n",
              "      <td>Un bon bock</td>\n",
              "      <td>0</td>\n",
              "      <td>1892.0</td>\n",
              "      <td>NaN</td>\n",
              "      <td>NaN</td>\n",
              "      <td>Animation,Short</td>\n",
              "      <td>6.2</td>\n",
              "      <td>117</td>\n",
              "    </tr>\n",
              "    <tr>\n",
              "      <th>4</th>\n",
              "      <td>tt0000005</td>\n",
              "      <td>short</td>\n",
              "      <td>Blacksmith Scene</td>\n",
              "      <td>Blacksmith Scene</td>\n",
              "      <td>0</td>\n",
              "      <td>1893.0</td>\n",
              "      <td>NaN</td>\n",
              "      <td>1</td>\n",
              "      <td>Comedy,Short</td>\n",
              "      <td>6.1</td>\n",
              "      <td>1986</td>\n",
              "    </tr>\n",
              "  </tbody>\n",
              "</table>\n",
              "</div>"
            ],
            "text/plain": [
              "      tconst titleType  ... averageRating numVotes\n",
              "0  tt0000001     short  ...           5.6     1578\n",
              "1  tt0000002     short  ...           6.1      189\n",
              "2  tt0000003     short  ...           6.5     1242\n",
              "3  tt0000004     short  ...           6.2      117\n",
              "4  tt0000005     short  ...           6.1     1986\n",
              "\n",
              "[5 rows x 11 columns]"
            ]
          },
          "metadata": {
            "tags": []
          },
          "execution_count": 72
        }
      ]
    },
    {
      "cell_type": "code",
      "metadata": {
        "id": "kae81E4q7Hia",
        "colab_type": "code",
        "outputId": "f83f37a7-778d-45e9-82a5-2dae3a6795cf",
        "colab": {
          "base_uri": "https://localhost:8080/",
          "height": 35
        }
      },
      "source": [
        "df_imdb.shape"
      ],
      "execution_count": 73,
      "outputs": [
        {
          "output_type": "execute_result",
          "data": {
            "text/plain": [
              "(1020202, 11)"
            ]
          },
          "metadata": {
            "tags": []
          },
          "execution_count": 73
        }
      ]
    },
    {
      "cell_type": "code",
      "metadata": {
        "id": "-fW9ZBEf7LY5",
        "colab_type": "code",
        "colab": {}
      },
      "source": [
        "#drop tv/game tags that aren't needed since I am focusing on movies\n",
        "\n",
        "df_imdb = df_imdb[~df_imdb['titleType'].isin(['short', 'tvShort', 'videoGame', 'tvSpecial', 'tvMiniSeries', 'tvMovie', 'tvSeries', 'video', 'short', 'tvEpisode'])]"
      ],
      "execution_count": 0,
      "outputs": []
    },
    {
      "cell_type": "code",
      "metadata": {
        "id": "o_3mrnmB7PBU",
        "colab_type": "code",
        "colab": {}
      },
      "source": [
        "df_imdb = df_imdb.drop(columns=['originalTitle', 'isAdult', 'originalTitle','runtimeMinutes', 'endYear', 'titleType'])"
      ],
      "execution_count": 0,
      "outputs": []
    },
    {
      "cell_type": "code",
      "metadata": {
        "id": "4AAY7_BP7Rbg",
        "colab_type": "code",
        "outputId": "9f037335-6a1d-4d25-90ba-baf30e18cf9e",
        "colab": {
          "base_uri": "https://localhost:8080/",
          "height": 198
        }
      },
      "source": [
        "df_imdb.head()"
      ],
      "execution_count": 76,
      "outputs": [
        {
          "output_type": "execute_result",
          "data": {
            "text/html": [
              "<div>\n",
              "<style scoped>\n",
              "    .dataframe tbody tr th:only-of-type {\n",
              "        vertical-align: middle;\n",
              "    }\n",
              "\n",
              "    .dataframe tbody tr th {\n",
              "        vertical-align: top;\n",
              "    }\n",
              "\n",
              "    .dataframe thead th {\n",
              "        text-align: right;\n",
              "    }\n",
              "</style>\n",
              "<table border=\"1\" class=\"dataframe\">\n",
              "  <thead>\n",
              "    <tr style=\"text-align: right;\">\n",
              "      <th></th>\n",
              "      <th>tconst</th>\n",
              "      <th>primaryTitle</th>\n",
              "      <th>startYear</th>\n",
              "      <th>genres</th>\n",
              "      <th>averageRating</th>\n",
              "      <th>numVotes</th>\n",
              "    </tr>\n",
              "  </thead>\n",
              "  <tbody>\n",
              "    <tr>\n",
              "      <th>8</th>\n",
              "      <td>tt0000009</td>\n",
              "      <td>Miss Jerry</td>\n",
              "      <td>1894.0</td>\n",
              "      <td>Romance</td>\n",
              "      <td>5.4</td>\n",
              "      <td>86</td>\n",
              "    </tr>\n",
              "    <tr>\n",
              "      <th>144</th>\n",
              "      <td>tt0000147</td>\n",
              "      <td>The Corbett-Fitzsimmons Fight</td>\n",
              "      <td>1897.0</td>\n",
              "      <td>Documentary,News,Sport</td>\n",
              "      <td>5.2</td>\n",
              "      <td>324</td>\n",
              "    </tr>\n",
              "    <tr>\n",
              "      <th>249</th>\n",
              "      <td>tt0000335</td>\n",
              "      <td>Soldiers of the Cross</td>\n",
              "      <td>1900.0</td>\n",
              "      <td>Biography,Drama</td>\n",
              "      <td>6.1</td>\n",
              "      <td>40</td>\n",
              "    </tr>\n",
              "    <tr>\n",
              "      <th>325</th>\n",
              "      <td>tt0000502</td>\n",
              "      <td>Bohemios</td>\n",
              "      <td>1905.0</td>\n",
              "      <td>NaN</td>\n",
              "      <td>4.4</td>\n",
              "      <td>5</td>\n",
              "    </tr>\n",
              "    <tr>\n",
              "      <th>359</th>\n",
              "      <td>tt0000574</td>\n",
              "      <td>The Story of the Kelly Gang</td>\n",
              "      <td>1906.0</td>\n",
              "      <td>Biography,Crime,Drama</td>\n",
              "      <td>6.1</td>\n",
              "      <td>552</td>\n",
              "    </tr>\n",
              "  </tbody>\n",
              "</table>\n",
              "</div>"
            ],
            "text/plain": [
              "        tconst                   primaryTitle  ...  averageRating numVotes\n",
              "8    tt0000009                     Miss Jerry  ...            5.4       86\n",
              "144  tt0000147  The Corbett-Fitzsimmons Fight  ...            5.2      324\n",
              "249  tt0000335          Soldiers of the Cross  ...            6.1       40\n",
              "325  tt0000502                       Bohemios  ...            4.4        5\n",
              "359  tt0000574    The Story of the Kelly Gang  ...            6.1      552\n",
              "\n",
              "[5 rows x 6 columns]"
            ]
          },
          "metadata": {
            "tags": []
          },
          "execution_count": 76
        }
      ]
    },
    {
      "cell_type": "code",
      "metadata": {
        "id": "RADqd3rw7X5q",
        "colab_type": "code",
        "colab": {}
      },
      "source": [
        "#strip tt off tconst\n",
        "\n",
        "df_imdb['tconst'] = df_imdb['tconst'].str.strip('tt')"
      ],
      "execution_count": 0,
      "outputs": []
    },
    {
      "cell_type": "code",
      "metadata": {
        "id": "szzPAoC17ZuC",
        "colab_type": "code",
        "colab": {}
      },
      "source": [
        "#convert tconst to an integer\n",
        "\n",
        "df_imdb['tconst'] = df_imdb['tconst'].astype(int)"
      ],
      "execution_count": 0,
      "outputs": []
    },
    {
      "cell_type": "code",
      "metadata": {
        "id": "Bl3Iout37cCa",
        "colab_type": "code",
        "outputId": "c7e91448-42a1-4fb0-a813-58453dc82cac",
        "colab": {
          "base_uri": "https://localhost:8080/",
          "height": 198
        }
      },
      "source": [
        "df_imdb.head()"
      ],
      "execution_count": 79,
      "outputs": [
        {
          "output_type": "execute_result",
          "data": {
            "text/html": [
              "<div>\n",
              "<style scoped>\n",
              "    .dataframe tbody tr th:only-of-type {\n",
              "        vertical-align: middle;\n",
              "    }\n",
              "\n",
              "    .dataframe tbody tr th {\n",
              "        vertical-align: top;\n",
              "    }\n",
              "\n",
              "    .dataframe thead th {\n",
              "        text-align: right;\n",
              "    }\n",
              "</style>\n",
              "<table border=\"1\" class=\"dataframe\">\n",
              "  <thead>\n",
              "    <tr style=\"text-align: right;\">\n",
              "      <th></th>\n",
              "      <th>tconst</th>\n",
              "      <th>primaryTitle</th>\n",
              "      <th>startYear</th>\n",
              "      <th>genres</th>\n",
              "      <th>averageRating</th>\n",
              "      <th>numVotes</th>\n",
              "    </tr>\n",
              "  </thead>\n",
              "  <tbody>\n",
              "    <tr>\n",
              "      <th>8</th>\n",
              "      <td>9</td>\n",
              "      <td>Miss Jerry</td>\n",
              "      <td>1894.0</td>\n",
              "      <td>Romance</td>\n",
              "      <td>5.4</td>\n",
              "      <td>86</td>\n",
              "    </tr>\n",
              "    <tr>\n",
              "      <th>144</th>\n",
              "      <td>147</td>\n",
              "      <td>The Corbett-Fitzsimmons Fight</td>\n",
              "      <td>1897.0</td>\n",
              "      <td>Documentary,News,Sport</td>\n",
              "      <td>5.2</td>\n",
              "      <td>324</td>\n",
              "    </tr>\n",
              "    <tr>\n",
              "      <th>249</th>\n",
              "      <td>335</td>\n",
              "      <td>Soldiers of the Cross</td>\n",
              "      <td>1900.0</td>\n",
              "      <td>Biography,Drama</td>\n",
              "      <td>6.1</td>\n",
              "      <td>40</td>\n",
              "    </tr>\n",
              "    <tr>\n",
              "      <th>325</th>\n",
              "      <td>502</td>\n",
              "      <td>Bohemios</td>\n",
              "      <td>1905.0</td>\n",
              "      <td>NaN</td>\n",
              "      <td>4.4</td>\n",
              "      <td>5</td>\n",
              "    </tr>\n",
              "    <tr>\n",
              "      <th>359</th>\n",
              "      <td>574</td>\n",
              "      <td>The Story of the Kelly Gang</td>\n",
              "      <td>1906.0</td>\n",
              "      <td>Biography,Crime,Drama</td>\n",
              "      <td>6.1</td>\n",
              "      <td>552</td>\n",
              "    </tr>\n",
              "  </tbody>\n",
              "</table>\n",
              "</div>"
            ],
            "text/plain": [
              "     tconst                   primaryTitle  ...  averageRating numVotes\n",
              "8         9                     Miss Jerry  ...            5.4       86\n",
              "144     147  The Corbett-Fitzsimmons Fight  ...            5.2      324\n",
              "249     335          Soldiers of the Cross  ...            6.1       40\n",
              "325     502                       Bohemios  ...            4.4        5\n",
              "359     574    The Story of the Kelly Gang  ...            6.1      552\n",
              "\n",
              "[5 rows x 6 columns]"
            ]
          },
          "metadata": {
            "tags": []
          },
          "execution_count": 79
        }
      ]
    },
    {
      "cell_type": "code",
      "metadata": {
        "id": "iIZl312T7jyM",
        "colab_type": "code",
        "colab": {}
      },
      "source": [
        "df_imdb = df_imdb.dropna()\n",
        "df_imdb['startYear'] = df_imdb['startYear'].astype(int)"
      ],
      "execution_count": 0,
      "outputs": []
    },
    {
      "cell_type": "code",
      "metadata": {
        "id": "zVNM2Y_57nio",
        "colab_type": "code",
        "outputId": "15236408-b709-44ef-d0c1-08789b7f64bc",
        "colab": {
          "base_uri": "https://localhost:8080/",
          "height": 198
        }
      },
      "source": [
        "df_imdb.head()"
      ],
      "execution_count": 81,
      "outputs": [
        {
          "output_type": "execute_result",
          "data": {
            "text/html": [
              "<div>\n",
              "<style scoped>\n",
              "    .dataframe tbody tr th:only-of-type {\n",
              "        vertical-align: middle;\n",
              "    }\n",
              "\n",
              "    .dataframe tbody tr th {\n",
              "        vertical-align: top;\n",
              "    }\n",
              "\n",
              "    .dataframe thead th {\n",
              "        text-align: right;\n",
              "    }\n",
              "</style>\n",
              "<table border=\"1\" class=\"dataframe\">\n",
              "  <thead>\n",
              "    <tr style=\"text-align: right;\">\n",
              "      <th></th>\n",
              "      <th>tconst</th>\n",
              "      <th>primaryTitle</th>\n",
              "      <th>startYear</th>\n",
              "      <th>genres</th>\n",
              "      <th>averageRating</th>\n",
              "      <th>numVotes</th>\n",
              "    </tr>\n",
              "  </thead>\n",
              "  <tbody>\n",
              "    <tr>\n",
              "      <th>8</th>\n",
              "      <td>9</td>\n",
              "      <td>Miss Jerry</td>\n",
              "      <td>1894</td>\n",
              "      <td>Romance</td>\n",
              "      <td>5.4</td>\n",
              "      <td>86</td>\n",
              "    </tr>\n",
              "    <tr>\n",
              "      <th>144</th>\n",
              "      <td>147</td>\n",
              "      <td>The Corbett-Fitzsimmons Fight</td>\n",
              "      <td>1897</td>\n",
              "      <td>Documentary,News,Sport</td>\n",
              "      <td>5.2</td>\n",
              "      <td>324</td>\n",
              "    </tr>\n",
              "    <tr>\n",
              "      <th>249</th>\n",
              "      <td>335</td>\n",
              "      <td>Soldiers of the Cross</td>\n",
              "      <td>1900</td>\n",
              "      <td>Biography,Drama</td>\n",
              "      <td>6.1</td>\n",
              "      <td>40</td>\n",
              "    </tr>\n",
              "    <tr>\n",
              "      <th>359</th>\n",
              "      <td>574</td>\n",
              "      <td>The Story of the Kelly Gang</td>\n",
              "      <td>1906</td>\n",
              "      <td>Biography,Crime,Drama</td>\n",
              "      <td>6.1</td>\n",
              "      <td>552</td>\n",
              "    </tr>\n",
              "    <tr>\n",
              "      <th>377</th>\n",
              "      <td>615</td>\n",
              "      <td>Robbery Under Arms</td>\n",
              "      <td>1907</td>\n",
              "      <td>Drama</td>\n",
              "      <td>4.8</td>\n",
              "      <td>14</td>\n",
              "    </tr>\n",
              "  </tbody>\n",
              "</table>\n",
              "</div>"
            ],
            "text/plain": [
              "     tconst                   primaryTitle  ...  averageRating numVotes\n",
              "8         9                     Miss Jerry  ...            5.4       86\n",
              "144     147  The Corbett-Fitzsimmons Fight  ...            5.2      324\n",
              "249     335          Soldiers of the Cross  ...            6.1       40\n",
              "359     574    The Story of the Kelly Gang  ...            6.1      552\n",
              "377     615             Robbery Under Arms  ...            4.8       14\n",
              "\n",
              "[5 rows x 6 columns]"
            ]
          },
          "metadata": {
            "tags": []
          },
          "execution_count": 81
        }
      ]
    },
    {
      "cell_type": "code",
      "metadata": {
        "id": "mlHe91Bk7soU",
        "colab_type": "code",
        "colab": {}
      },
      "source": [
        "df_imdb['genres'] = df_imdb['genres'].str.lower()"
      ],
      "execution_count": 0,
      "outputs": []
    },
    {
      "cell_type": "code",
      "metadata": {
        "id": "Rk2i1g9T7vlA",
        "colab_type": "code",
        "colab": {}
      },
      "source": [
        "drama = df_imdb['genres'].str.contains('drama')\n",
        "comedy = df_imdb['genres'].str.contains('comedy')\n",
        "documentary = df_imdb['genres'].str.contains('documentary')\n",
        "romance = df_imdb['genres'].str.contains('romance')\n",
        "family = df_imdb['genres'].str.contains('family')\n",
        "animation = df_imdb['genres'].str.contains('animation')\n",
        "crime = df_imdb['genres'].str.contains('crime')\n",
        "action = df_imdb['genres'].str.contains('action')\n",
        "adventure = df_imdb['genres'].str.contains('adventure')\n",
        "mystery = df_imdb['genres'].str.contains('mystery')\n",
        "musical = df_imdb['genres'].str.contains('musical')\n",
        "thriller = df_imdb['genres'].str.contains('thriller')\n",
        "horror = df_imdb['genres'].str.contains('horror')\n",
        "sci_fi = df_imdb['genres'].str.contains('sci')\n",
        "fantasy = df_imdb['genres'].str.contains('fantasy')\n",
        "war = df_imdb['genres'].str.contains('war')\n",
        "western = df_imdb['genres'].str.contains('western')\n",
        "film_noir = df_imdb['genres'].str.contains('film')\n",
        "mystery = df_imdb['genres'].str.contains('mystery')\n",
        "history = df_imdb['genres'].str.contains('history')\n",
        "sport = df_imdb['genres'].str.contains('sport')\n",
        "biography = df_imdb['genres'].str.contains('biography')"
      ],
      "execution_count": 0,
      "outputs": []
    },
    {
      "cell_type": "code",
      "metadata": {
        "id": "LMREEP1N7w16",
        "colab_type": "code",
        "colab": {}
      },
      "source": [
        "df_imdb.loc[drama, 'genres'] = 'drama'\n",
        "df_imdb.loc[comedy, 'genres'] = 'comedy'\n",
        "df_imdb.loc[documentary, 'genres'] = 'documentary'\n",
        "df_imdb.loc[romance, 'genres'] = 'romance'\n",
        "df_imdb.loc[family, 'genres'] = 'family'\n",
        "df_imdb.loc[animation, 'genres'] = 'animation'\n",
        "df_imdb.loc[crime, 'genres'] = 'crime'\n",
        "df_imdb.loc[action, 'genres'] = 'action'\n",
        "df_imdb.loc[adventure, 'genres'] = 'adventure'\n",
        "df_imdb.loc[mystery, 'genres'] = 'mystery'\n",
        "df_imdb.loc[thriller, 'genres'] = 'thriller'\n",
        "df_imdb.loc[horror, 'genres'] = 'horror'\n",
        "df_imdb.loc[sci_fi, 'genres']  ='sci_fi'\n",
        "df_imdb.loc[fantasy, 'genres']  ='fantasy'\n",
        "df_imdb.loc[war, 'genres']  ='war'\n",
        "df_imdb.loc[western, 'genres']  ='western'\n",
        "df_imdb.loc[film_noir, 'genres'] ='film_noir'\n",
        "df_imdb.loc[mystery, 'genres'] ='mystery'\n",
        "df_imdb.loc[history, 'genres'] ='history'\n",
        "df_imdb.loc[sport, 'genres'] ='sport'\n",
        "df_imdb.loc[biography, 'genres'] ='biography'"
      ],
      "execution_count": 0,
      "outputs": []
    },
    {
      "cell_type": "code",
      "metadata": {
        "id": "RreU2Twa70pq",
        "colab_type": "code",
        "colab": {}
      },
      "source": [
        "df_imdb = df_imdb[~df_imdb['genres'].isin(['music,reality-tv''reality-tv,talk-show', \n",
        "                                              'news,talk-show',\n",
        "                                              'news,talk-show',\n",
        "                                              'adult,music',\n",
        "                                              'music,talk-show',\n",
        "                                              'news,reality-tv,talk-show',\n",
        "                                              'game-show,music',\n",
        "                                              'adult,short',\n",
        "                                              'music,musical',\n",
        "                                              'adult,musical',\n",
        "                                              'music,musical,reality-tv',\n",
        "                                              'musical,reality-tv',\n",
        "                                              'short',\n",
        "                                              'reality-tv,talk-show',\n",
        "                                              'news',\n",
        "                                              'talk-show',\n",
        "                                              'reality-tv',\n",
        "                                              'game-show',\n",
        "                                              '\\\\n',\n",
        "                                              'music,reality-tv',\n",
        "                                              'music'\n",
        "                                              ])]"
      ],
      "execution_count": 0,
      "outputs": []
    },
    {
      "cell_type": "code",
      "metadata": {
        "id": "dfNVw6VJ8Dzr",
        "colab_type": "code",
        "outputId": "d85045c9-538c-4e79-9106-2a5a4bbecd50",
        "colab": {
          "base_uri": "https://localhost:8080/",
          "height": 435
        }
      },
      "source": [
        "#pd.set_option('display.max_rows', None)\n",
        "\n",
        "df_imdb['genres'].value_counts()"
      ],
      "execution_count": 86,
      "outputs": [
        {
          "output_type": "execute_result",
          "data": {
            "text/plain": [
              "drama          42965\n",
              "comedy         33030\n",
              "documentary    25623\n",
              "romance        19819\n",
              "action         13099\n",
              "thriller       12328\n",
              "horror         12298\n",
              "adventure      11559\n",
              "mystery         8749\n",
              "crime           8239\n",
              "biography       7244\n",
              "fantasy         6555\n",
              "family          5415\n",
              "history         5141\n",
              "sci_fi          5049\n",
              "war             4550\n",
              "western         3841\n",
              "sport           2554\n",
              "adult           2386\n",
              "animation       1581\n",
              "musical          744\n",
              "film_noir        684\n",
              "Name: genres, dtype: int64"
            ]
          },
          "metadata": {
            "tags": []
          },
          "execution_count": 86
        }
      ]
    },
    {
      "cell_type": "code",
      "metadata": {
        "id": "ZNUC722B8Gjk",
        "colab_type": "code",
        "outputId": "28bc8c68-a98c-4f2a-b813-bd3836e2971a",
        "colab": {
          "base_uri": "https://localhost:8080/",
          "height": 35
        }
      },
      "source": [
        "df_imdb.shape"
      ],
      "execution_count": 87,
      "outputs": [
        {
          "output_type": "execute_result",
          "data": {
            "text/plain": [
              "(233453, 6)"
            ]
          },
          "metadata": {
            "tags": []
          },
          "execution_count": 87
        }
      ]
    },
    {
      "cell_type": "code",
      "metadata": {
        "id": "T46Ok2zI8IpB",
        "colab_type": "code",
        "colab": {}
      },
      "source": [
        "#df_imdb = df_imdb.reset_index(drop=True)"
      ],
      "execution_count": 0,
      "outputs": []
    },
    {
      "cell_type": "code",
      "metadata": {
        "id": "5R4wRnNH8pCo",
        "colab_type": "code",
        "outputId": "6dd219e1-c742-430f-8bc5-72e3a008bd5b",
        "colab": {
          "base_uri": "https://localhost:8080/",
          "height": 198
        }
      },
      "source": [
        "df_imdb.head()"
      ],
      "execution_count": 88,
      "outputs": [
        {
          "output_type": "execute_result",
          "data": {
            "text/html": [
              "<div>\n",
              "<style scoped>\n",
              "    .dataframe tbody tr th:only-of-type {\n",
              "        vertical-align: middle;\n",
              "    }\n",
              "\n",
              "    .dataframe tbody tr th {\n",
              "        vertical-align: top;\n",
              "    }\n",
              "\n",
              "    .dataframe thead th {\n",
              "        text-align: right;\n",
              "    }\n",
              "</style>\n",
              "<table border=\"1\" class=\"dataframe\">\n",
              "  <thead>\n",
              "    <tr style=\"text-align: right;\">\n",
              "      <th></th>\n",
              "      <th>tconst</th>\n",
              "      <th>primaryTitle</th>\n",
              "      <th>startYear</th>\n",
              "      <th>genres</th>\n",
              "      <th>averageRating</th>\n",
              "      <th>numVotes</th>\n",
              "    </tr>\n",
              "  </thead>\n",
              "  <tbody>\n",
              "    <tr>\n",
              "      <th>8</th>\n",
              "      <td>9</td>\n",
              "      <td>Miss Jerry</td>\n",
              "      <td>1894</td>\n",
              "      <td>romance</td>\n",
              "      <td>5.4</td>\n",
              "      <td>86</td>\n",
              "    </tr>\n",
              "    <tr>\n",
              "      <th>144</th>\n",
              "      <td>147</td>\n",
              "      <td>The Corbett-Fitzsimmons Fight</td>\n",
              "      <td>1897</td>\n",
              "      <td>sport</td>\n",
              "      <td>5.2</td>\n",
              "      <td>324</td>\n",
              "    </tr>\n",
              "    <tr>\n",
              "      <th>249</th>\n",
              "      <td>335</td>\n",
              "      <td>Soldiers of the Cross</td>\n",
              "      <td>1900</td>\n",
              "      <td>biography</td>\n",
              "      <td>6.1</td>\n",
              "      <td>40</td>\n",
              "    </tr>\n",
              "    <tr>\n",
              "      <th>359</th>\n",
              "      <td>574</td>\n",
              "      <td>The Story of the Kelly Gang</td>\n",
              "      <td>1906</td>\n",
              "      <td>biography</td>\n",
              "      <td>6.1</td>\n",
              "      <td>552</td>\n",
              "    </tr>\n",
              "    <tr>\n",
              "      <th>377</th>\n",
              "      <td>615</td>\n",
              "      <td>Robbery Under Arms</td>\n",
              "      <td>1907</td>\n",
              "      <td>drama</td>\n",
              "      <td>4.8</td>\n",
              "      <td>14</td>\n",
              "    </tr>\n",
              "  </tbody>\n",
              "</table>\n",
              "</div>"
            ],
            "text/plain": [
              "     tconst                   primaryTitle  ...  averageRating numVotes\n",
              "8         9                     Miss Jerry  ...            5.4       86\n",
              "144     147  The Corbett-Fitzsimmons Fight  ...            5.2      324\n",
              "249     335          Soldiers of the Cross  ...            6.1       40\n",
              "359     574    The Story of the Kelly Gang  ...            6.1      552\n",
              "377     615             Robbery Under Arms  ...            4.8       14\n",
              "\n",
              "[5 rows x 6 columns]"
            ]
          },
          "metadata": {
            "tags": []
          },
          "execution_count": 88
        }
      ]
    },
    {
      "cell_type": "code",
      "metadata": {
        "id": "YMJ2cSlayp_O",
        "colab_type": "code",
        "colab": {}
      },
      "source": [
        "target = df_imdb['averageRating']\n",
        "features = df_imdb.columns.drop('averageRating')"
      ],
      "execution_count": 0,
      "outputs": []
    },
    {
      "cell_type": "code",
      "metadata": {
        "id": "1BBkenctwCP9",
        "colab_type": "code",
        "colab": {}
      },
      "source": [
        "import numpy as np\n",
        "from sklearn.model_selection import train_test_split\n",
        "\n",
        "X_train, X_test, y_train, y_test = train_test_split(df_imdb, target, test_size=0.2, random_state=1)\n",
        "\n",
        "X_train, X_val, y_train, y_val = train_test_split(X_train, y_train, test_size=0.2, random_state=1)"
      ],
      "execution_count": 0,
      "outputs": []
    },
    {
      "cell_type": "code",
      "metadata": {
        "id": "5u8MbeepssQg",
        "colab_type": "code",
        "colab": {}
      },
      "source": [
        "#df_imdb = df_imdb.set_index('startYear')\n",
        "#train = df_imdb[df_imdb[:2018].reset_index()\n",
        "#test = df_imdb[2018:].reset_index()\n",
        "#val = df_imdb[2019]\n",
        "#df_imdb = df_imdb.reset_index()"
      ],
      "execution_count": 0,
      "outputs": []
    },
    {
      "cell_type": "code",
      "metadata": {
        "id": "7mV2lsqL8rUB",
        "colab_type": "code",
        "colab": {}
      },
      "source": [
        "#df_imdb['averageRating'] = df_imdb['averageRating'].astype(str)"
      ],
      "execution_count": 0,
      "outputs": []
    },
    {
      "cell_type": "code",
      "metadata": {
        "id": "FRQZGVM68tv_",
        "colab_type": "code",
        "colab": {}
      },
      "source": [
        "#df_imdb['averageRating'] = df_imdb['averageRating'].astype('category')"
      ],
      "execution_count": 0,
      "outputs": []
    },
    {
      "cell_type": "code",
      "metadata": {
        "id": "z79w-3ho8vyq",
        "colab_type": "code",
        "colab": {}
      },
      "source": [
        "#df_imdb['averageRating'].dtypes"
      ],
      "execution_count": 0,
      "outputs": []
    },
    {
      "cell_type": "code",
      "metadata": {
        "id": "Fn4nOMT6hmf9",
        "colab_type": "code",
        "colab": {}
      },
      "source": [
        "#errors for time based split\n",
        "#df_imdb = df_imdb.set_index('startYear')\n",
        "\n",
        "#train = df_imdb[df_imdb['startYear']] < 20183\n",
        "#test = df_imdb[df_imdb['startYear']] == 2018\n",
        "#val = df_imdb[df_imdb['startYear']] > 2019"
      ],
      "execution_count": 0,
      "outputs": []
    },
    {
      "cell_type": "code",
      "metadata": {
        "id": "kIwLG-GGpZu7",
        "colab_type": "code",
        "colab": {}
      },
      "source": [
        "#train_validate_test_split(df_imdb)\n",
        "#import numpy as np\n",
        "#from sklearn.model_selection import train_test_split\n",
        "\n",
        "#X_train, X_test, y_train, y_test = train_test_split(df_imdb, df_imdb['averageRating'], test_size=0.25, random_state=True)"
      ],
      "execution_count": 0,
      "outputs": []
    },
    {
      "cell_type": "code",
      "metadata": {
        "id": "iF_SSKUdqNou",
        "colab_type": "code",
        "colab": {
          "base_uri": "https://localhost:8080/",
          "height": 35
        },
        "outputId": "03548520-f4a6-4dc6-8c56-77b76087ce01"
      },
      "source": [
        "X_train.shape, X_test.shape, X_val.shape"
      ],
      "execution_count": 98,
      "outputs": [
        {
          "output_type": "execute_result",
          "data": {
            "text/plain": [
              "((149409, 6), (46691, 6), (37353, 6))"
            ]
          },
          "metadata": {
            "tags": []
          },
          "execution_count": 98
        }
      ]
    },
    {
      "cell_type": "code",
      "metadata": {
        "id": "LXEGr541uoP5",
        "colab_type": "code",
        "colab": {
          "base_uri": "https://localhost:8080/",
          "height": 35
        },
        "outputId": "75c995d2-e68a-46ec-db30-279f8222c4e8"
      },
      "source": [
        "#Linear Regression\n",
        "\n",
        "import category_encoders as ce\n",
        "from sklearn.linear_model import LinearRegression\n",
        "from sklearn.pipeline import make_pipeline\n",
        "from sklearn.preprocessing import StandardScaler\n",
        "\n",
        "lr = make_pipeline(\n",
        "    ce.TargetEncoder(),  \n",
        "    LinearRegression()\n",
        ")\n",
        "\n",
        "lr.fit(X_train, y_train)\n",
        "print('Linear Regression R^2', lr.score(X_val, y_val))"
      ],
      "execution_count": 99,
      "outputs": [
        {
          "output_type": "stream",
          "text": [
            "Linear Regression R^2 1.0\n"
          ],
          "name": "stdout"
        }
      ]
    },
    {
      "cell_type": "code",
      "metadata": {
        "id": "FCKbslfhyeBs",
        "colab_type": "code",
        "colab": {
          "base_uri": "https://localhost:8080/",
          "height": 317
        },
        "outputId": "7a37bb99-4c53-4b90-8fa0-7f0092643bfa"
      },
      "source": [
        "coefficients = lr.named_steps['linearregression'].coef_\n",
        "pd.Series(coefficients, features)"
      ],
      "execution_count": 101,
      "outputs": [
        {
          "output_type": "error",
          "ename": "ValueError",
          "evalue": "ignored",
          "traceback": [
            "\u001b[0;31m---------------------------------------------------------------------------\u001b[0m",
            "\u001b[0;31mValueError\u001b[0m                                Traceback (most recent call last)",
            "\u001b[0;32m<ipython-input-101-920e8d3ba400>\u001b[0m in \u001b[0;36m<module>\u001b[0;34m()\u001b[0m\n\u001b[1;32m      1\u001b[0m \u001b[0mcoefficients\u001b[0m \u001b[0;34m=\u001b[0m \u001b[0mlr\u001b[0m\u001b[0;34m.\u001b[0m\u001b[0mnamed_steps\u001b[0m\u001b[0;34m[\u001b[0m\u001b[0;34m'linearregression'\u001b[0m\u001b[0;34m]\u001b[0m\u001b[0;34m.\u001b[0m\u001b[0mcoef_\u001b[0m\u001b[0;34m\u001b[0m\u001b[0;34m\u001b[0m\u001b[0m\n\u001b[0;32m----> 2\u001b[0;31m \u001b[0mpd\u001b[0m\u001b[0;34m.\u001b[0m\u001b[0mSeries\u001b[0m\u001b[0;34m(\u001b[0m\u001b[0mcoefficients\u001b[0m\u001b[0;34m,\u001b[0m \u001b[0mfeatures\u001b[0m\u001b[0;34m)\u001b[0m\u001b[0;34m\u001b[0m\u001b[0;34m\u001b[0m\u001b[0m\n\u001b[0m",
            "\u001b[0;32m/usr/local/lib/python3.6/dist-packages/pandas/core/series.py\u001b[0m in \u001b[0;36m__init__\u001b[0;34m(self, data, index, dtype, name, copy, fastpath)\u001b[0m\n\u001b[1;32m    300\u001b[0m                         raise ValueError(\n\u001b[1;32m    301\u001b[0m                             \u001b[0;34m\"Length of passed values is {val}, \"\u001b[0m\u001b[0;34m\u001b[0m\u001b[0;34m\u001b[0m\u001b[0m\n\u001b[0;32m--> 302\u001b[0;31m                             \u001b[0;34m\"index implies {ind}\"\u001b[0m\u001b[0;34m.\u001b[0m\u001b[0mformat\u001b[0m\u001b[0;34m(\u001b[0m\u001b[0mval\u001b[0m\u001b[0;34m=\u001b[0m\u001b[0mlen\u001b[0m\u001b[0;34m(\u001b[0m\u001b[0mdata\u001b[0m\u001b[0;34m)\u001b[0m\u001b[0;34m,\u001b[0m \u001b[0mind\u001b[0m\u001b[0;34m=\u001b[0m\u001b[0mlen\u001b[0m\u001b[0;34m(\u001b[0m\u001b[0mindex\u001b[0m\u001b[0;34m)\u001b[0m\u001b[0;34m)\u001b[0m\u001b[0;34m\u001b[0m\u001b[0;34m\u001b[0m\u001b[0m\n\u001b[0m\u001b[1;32m    303\u001b[0m                         )\n\u001b[1;32m    304\u001b[0m                 \u001b[0;32mexcept\u001b[0m \u001b[0mTypeError\u001b[0m\u001b[0;34m:\u001b[0m\u001b[0;34m\u001b[0m\u001b[0;34m\u001b[0m\u001b[0m\n",
            "\u001b[0;31mValueError\u001b[0m: Length of passed values is 6, index implies 5"
          ]
        }
      ]
    },
    {
      "cell_type": "code",
      "metadata": {
        "id": "FTQ6dbnvrb0D",
        "colab_type": "code",
        "colab": {
          "base_uri": "https://localhost:8080/",
          "height": 72
        },
        "outputId": "c19a0789-5553-4401-a65c-4dcbe52c79c3"
      },
      "source": [
        "from sklearn.metrics import r2_score\n",
        "from xgboost import XGBRegressor\n",
        "\n",
        "gb = make_pipeline(\n",
        "    ce.OrdinalEncoder(), \n",
        "    XGBRegressor(n_estimators=200, objective='reg:squarederror', n_jobs=-1)\n",
        ")\n",
        "\n",
        "gb.fit(X_train, y_train)\n",
        "y_pred = gb.predict(X_val)\n",
        "print('Gradient Boosting R^2', r2_score(y_val, y_pred))"
      ],
      "execution_count": 103,
      "outputs": [
        {
          "output_type": "stream",
          "text": [
            "/usr/local/lib/python3.6/dist-packages/xgboost/core.py:587: FutureWarning: Series.base is deprecated and will be removed in a future version\n",
            "  if getattr(data, 'base', None) is not None and \\\n"
          ],
          "name": "stderr"
        },
        {
          "output_type": "stream",
          "text": [
            "Gradient Boosting R^2 0.9999999671410583\n"
          ],
          "name": "stdout"
        }
      ]
    },
    {
      "cell_type": "markdown",
      "metadata": {
        "id": "GPMNPo101OWV",
        "colab_type": "text"
      },
      "source": [
        "Partial dependence plot"
      ]
    },
    {
      "cell_type": "code",
      "metadata": {
        "id": "PpFv1koD1R4q",
        "colab_type": "code",
        "colab": {}
      },
      "source": [
        "# Later, when you save matplotlib images to include in blog posts or web apps,\n",
        "# increase the dots per inch (double it), so the text isn't so fuzzy\n",
        "import matplotlib.pyplot as plt\n",
        "plt.rcParams['figure.dpi'] = 72"
      ],
      "execution_count": 0,
      "outputs": []
    },
    {
      "cell_type": "code",
      "metadata": {
        "id": "8fAJGiXG1WTi",
        "colab_type": "code",
        "colab": {}
      },
      "source": [
        "from pdpbox.pdp import pdp_isolate, pdp_plot\n",
        "\n",
        "feature = 'averageRating'\n",
        "\n",
        "isolated = pdp_isolate(\n",
        "    model=gb,\n",
        "    dataset=X_val,\n",
        "    model_features=X_val.columns,\n",
        "    feature=feature\n",
        ")"
      ],
      "execution_count": 0,
      "outputs": []
    },
    {
      "cell_type": "code",
      "metadata": {
        "id": "vjsElqvA1e96",
        "colab_type": "code",
        "colab": {
          "base_uri": "https://localhost:8080/",
          "height": 687
        },
        "outputId": "8bd4b437-8088-40cd-98af-83d54bad3d04"
      },
      "source": [
        "pdp_plot(isolated, feature_name=feature)"
      ],
      "execution_count": 107,
      "outputs": [
        {
          "output_type": "execute_result",
          "data": {
            "text/plain": [
              "(<Figure size 1080x684 with 2 Axes>,\n",
              " {'pdp_ax': <matplotlib.axes._subplots.AxesSubplot at 0x7f7948fd7278>,\n",
              "  'title_ax': <matplotlib.axes._subplots.AxesSubplot at 0x7f794935d320>})"
            ]
          },
          "metadata": {
            "tags": []
          },
          "execution_count": 107
        },
        {
          "output_type": "stream",
          "text": [
            "findfont: Font family ['Arial'] not found. Falling back to DejaVu Sans.\n",
            "findfont: Font family ['Arial'] not found. Falling back to DejaVu Sans.\n",
            "findfont: Font family ['Arial'] not found. Falling back to DejaVu Sans.\n",
            "findfont: Font family ['Arial'] not found. Falling back to DejaVu Sans.\n"
          ],
          "name": "stderr"
        },
        {
          "output_type": "display_data",
          "data": {
            "image/png": "[encoded data removed]",
            "text/plain": [
              "<Figure size 1080x684 with 2 Axes>"
            ]
          },
          "metadata": {
            "tags": []
          }
        }
      ]
    },
    {
      "cell_type": "code",
      "metadata": {
        "id": "fpBezvHa1taK",
        "colab_type": "code",
        "colab": {
          "base_uri": "https://localhost:8080/",
          "height": 633
        },
        "outputId": "c3ae63c5-e665-42da-96f5-f106f960c739"
      },
      "source": [
        "pdp_plot(isolated, feature_name=feature)\n",
        "#plt.xlim((20000,150000));"
      ],
      "execution_count": 109,
      "outputs": [
        {
          "output_type": "execute_result",
          "data": {
            "text/plain": [
              "(<Figure size 1080x684 with 2 Axes>,\n",
              " {'pdp_ax': <matplotlib.axes._subplots.AxesSubplot at 0x7f794a4e0780>,\n",
              "  'title_ax': <matplotlib.axes._subplots.AxesSubplot at 0x7f794ab7f4a8>})"
            ]
          },
          "metadata": {
            "tags": []
          },
          "execution_count": 109
        },
        {
          "output_type": "display_data",
          "data": {
            "image/png": "[encoded data removed]",
            "text/plain": [
              "<Figure size 1080x684 with 2 Axes>"
            ]
          },
          "metadata": {
            "tags": []
          }
        }
      ]
    },
    {
      "cell_type": "code",
      "metadata": {
        "id": "jNGPCJFE17Nx",
        "colab_type": "code",
        "colab": {
          "base_uri": "https://localhost:8080/",
          "height": 633
        },
        "outputId": "3d3b4dab-10aa-4319-9b55-6bbf59c236dd"
      },
      "source": [
        "# Plot PDP with ICE curves\n",
        "# PDP: Partial Dependence Plot\n",
        "# ICE: Individual Conditional Expectation\n",
        "pdp_plot(isolated, feature_name=feature, plot_lines=True, \n",
        "         frac_to_plot=0.01)\n",
        "\n",
        "#plt.xlim(20000,150000);"
      ],
      "execution_count": 110,
      "outputs": [
        {
          "output_type": "execute_result",
          "data": {
            "text/plain": [
              "(<Figure size 1080x684 with 2 Axes>,\n",
              " {'pdp_ax': <matplotlib.axes._subplots.AxesSubplot at 0x7f7946a69b00>,\n",
              "  'title_ax': <matplotlib.axes._subplots.AxesSubplot at 0x7f7947a2a128>})"
            ]
          },
          "metadata": {
            "tags": []
          },
          "execution_count": 110
        },
        {
          "output_type": "display_data",
          "data": {
            "image/png": "[encoded data removed]",
            "text/plain": [
              "<Figure size 1080x684 with 2 Axes>"
            ]
          },
          "metadata": {
            "tags": []
          }
        }
      ]
    },
    {
      "cell_type": "markdown",
      "metadata": {
        "id": "yuMKSoVX2ObL",
        "colab_type": "text"
      },
      "source": [
        "Partial Dependence Plots with 2 features"
      ]
    },
    {
      "cell_type": "code",
      "metadata": {
        "id": "HANi9rzy2Pnh",
        "colab_type": "code",
        "colab": {}
      },
      "source": [
        "from pdpbox.pdp import pdp_interact, pdp_interact_plot"
      ],
      "execution_count": 0,
      "outputs": []
    },
    {
      "cell_type": "code",
      "metadata": {
        "id": "3JGGlRSc4Btq",
        "colab_type": "code",
        "colab": {}
      },
      "source": [
        "features = ['averageRating', 'numVotes']\n",
        "\n",
        "interaction = pdp_interact(\n",
        "    model=gb, \n",
        "    dataset=X_val,\n",
        "    model_features=X_val.columns, \n",
        "    features=features\n",
        ")"
      ],
      "execution_count": 0,
      "outputs": []
    },
    {
      "cell_type": "code",
      "metadata": {
        "id": "iX1me3S14aTG",
        "colab_type": "code",
        "colab": {
          "base_uri": "https://localhost:8080/",
          "height": 581
        },
        "outputId": "87e488b7-64b0-40e4-e026-d598389fa718"
      },
      "source": [
        "pdp_interact_plot(interaction, plot_type='grid', \n",
        "                  feature_names=features);"
      ],
      "execution_count": 129,
      "outputs": [
        {
          "output_type": "display_data",
          "data": {
            "image/png": "[encoded data removed]",
            "text/plain": [
              "<Figure size 540x684 with 3 Axes>"
            ]
          },
          "metadata": {
            "tags": []
          }
        }
      ]
    },
    {
      "cell_type": "markdown",
      "metadata": {
        "id": "yHlHLnTg6Sp8",
        "colab_type": "text"
      },
      "source": [
        "3D Partial dependence plot"
      ]
    },
    {
      "cell_type": "code",
      "metadata": {
        "id": "0VWgSfPF6fKe",
        "colab_type": "code",
        "colab": {}
      },
      "source": [
        "# First, make the 2D plot above. Then ...\n",
        "\n",
        "pdp = interaction.pdp.pivot_table(\n",
        "    values='preds', \n",
        "    columns=features[0], \n",
        "    index=features[1]\n",
        ")[::-1] # Slice notation to reverse index order so y axis is ascending"
      ],
      "execution_count": 0,
      "outputs": []
    },
    {
      "cell_type": "code",
      "metadata": {
        "id": "m99tK9sR6kN7",
        "colab_type": "code",
        "colab": {}
      },
      "source": [
        "#pdp = pdp.drop(columns=[1.001, 9.999])"
      ],
      "execution_count": 0,
      "outputs": []
    },
    {
      "cell_type": "code",
      "metadata": {
        "id": "3B6qxYQK60JV",
        "colab_type": "code",
        "colab": {}
      },
      "source": [
        "import plotly.graph_objs as go\n",
        "\n",
        "surface = go.Surface(\n",
        "    x=pdp.columns, \n",
        "    y=pdp.index, \n",
        "    z=pdp.values\n",
        ")\n",
        "\n",
        "\n",
        "layout = go.Layout(\n",
        "    scene=dict(\n",
        "        xaxis=dict(title=features[0]), \n",
        "        yaxis=dict(title=features[1]), \n",
        "        zaxis=dict(title=target)\n",
        "    )\n",
        ")\n",
        "\n",
        "fig = go.Figure(surface, layout)\n",
        "fig.show()"
      ],
      "execution_count": 0,
      "outputs": []
    }
  ]
}