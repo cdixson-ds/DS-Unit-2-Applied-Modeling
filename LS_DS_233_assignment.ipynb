{
  "nbformat": 4,
  "nbformat_minor": 0,
  "metadata": {
    "kernelspec": {
      "display_name": "Python 3",
      "language": "python",
      "name": "python3"
    },
    "language_info": {
      "codemirror_mode": {
        "name": "ipython",
        "version": 3
      },
      "file_extension": ".py",
      "mimetype": "text/x-python",
      "name": "python",
      "nbconvert_exporter": "python",
      "pygments_lexer": "ipython3",
      "version": "3.7.3"
    },
    "colab": {
      "name": "LS_DS_233_assignment.ipynb",
      "provenance": [],
      "include_colab_link": true
    }
  },
  "cells": [
    {
      "cell_type": "markdown",
      "metadata": {
        "id": "view-in-github",
        "colab_type": "text"
      },
      "source": [
        "<a href=\"https://colab.research.google.com/github/cdixson-ds/DS-Unit-2-Applied-Modeling/blob/master/LS_DS_233_assignment.ipynb\" target=\"_parent\"><img src=\"https://colab.research.google.com/assets/colab-badge.svg\" alt=\"Open In Colab\"/></a>"
      ]
    },
    {
      "cell_type": "markdown",
      "metadata": {
        "colab_type": "text",
        "id": "nCc3XZEyG3XV"
      },
      "source": [
        "Lambda School Data Science\n",
        "\n",
        "*Unit 2, Sprint 3, Module 3*\n",
        "\n",
        "---\n",
        "\n",
        "\n",
        "# Permutation & Boosting\n",
        "\n",
        "You will use your portfolio project dataset for all assignments this sprint.\n",
        "\n",
        "## Assignment\n",
        "\n",
        "Complete these tasks for your project, and document your work.\n",
        "\n",
        "- [ ] If you haven't completed assignment #1, please do so first.\n",
        "- [ ] Continue to clean and explore your data. Make exploratory visualizations.\n",
        "- [ ] Fit a model. Does it beat your baseline? \n",
        "- [ ] Try xgboost.\n",
        "- [ ] Get your model's permutation importances.\n",
        "\n",
        "You should try to complete an initial model today, because the rest of the week, we're making model interpretation visualizations.\n",
        "\n",
        "But, if you aren't ready to try xgboost and permutation importances with your dataset today, that's okay. You can practice with another dataset instead. You may choose any dataset you've worked with previously.\n",
        "\n",
        "The data subdirectory includes the Titanic dataset for classification and the NYC apartments dataset for regression. You may want to choose one of these datasets, because example solutions will be available for each.\n",
        "\n",
        "\n",
        "## Reading\n",
        "\n",
        "Top recommendations in _**bold italic:**_\n",
        "\n",
        "#### Permutation Importances\n",
        "- _**[Kaggle / Dan Becker: Machine Learning Explainability](https://www.kaggle.com/dansbecker/permutation-importance)**_\n",
        "- [Christoph Molnar: Interpretable Machine Learning](https://christophm.github.io/interpretable-ml-book/feature-importance.html)\n",
        "\n",
        "#### (Default) Feature Importances\n",
        "  - [Ando Saabas: Selecting good features, Part 3, Random Forests](https://blog.datadive.net/selecting-good-features-part-iii-random-forests/)\n",
        "  - [Terence Parr, et al: Beware Default Random Forest Importances](https://explained.ai/rf-importance/index.html)\n",
        "\n",
        "#### Gradient Boosting\n",
        "  - [A Gentle Introduction to the Gradient Boosting Algorithm for Machine Learning](https://machinelearningmastery.com/gentle-introduction-gradient-boosting-algorithm-machine-learning/)\n",
        "  - _**[A Kaggle Master Explains Gradient Boosting](http://blog.kaggle.com/2017/01/23/a-kaggle-master-explains-gradient-boosting/)**_\n",
        "  - [_An Introduction to Statistical Learning_](http://www-bcf.usc.edu/~gareth/ISL/ISLR%20Seventh%20Printing.pdf) Chapter 8\n",
        "  - [Gradient Boosting Explained](http://arogozhnikov.github.io/2016/06/24/gradient_boosting_explained.html)\n",
        "  - _**[Boosting](https://www.youtube.com/watch?v=GM3CDQfQ4sw) (2.5 minute video)**_"
      ]
    },
    {
      "cell_type": "code",
      "metadata": {
        "id": "q43wkWjyI8W2",
        "colab_type": "code",
        "colab": {}
      },
      "source": [
        "%%capture\n",
        "import sys\n",
        "\n",
        "# If you're on Colab:\n",
        "if 'google.colab' in sys.modules:\n",
        "    !pip install category_encoders==2.*\n",
        "    !pip install pandas-profiling==2.*\n",
        "\n",
        "# If you're working locally:\n",
        "else:\n",
        "    DATA_PATH = '../data/'"
      ],
      "execution_count": 0,
      "outputs": []
    },
    {
      "cell_type": "code",
      "metadata": {
        "id": "sEtM0UylJOO4",
        "colab_type": "code",
        "colab": {}
      },
      "source": [
        "import pandas as pd\n",
        "\n",
        "df_basic = pd.read_csv('https://datasets.imdbws.com/title.basics.tsv.gz', sep='\\t', low_memory=False)\n",
        "df_rating = pd.read_csv('https://datasets.imdbws.com/title.ratings.tsv.gz', sep='\\t', low_memory=False)"
      ],
      "execution_count": 0,
      "outputs": []
    },
    {
      "cell_type": "code",
      "metadata": {
        "id": "pAS4JirJJbWh",
        "colab_type": "code",
        "colab": {
          "base_uri": "https://localhost:8080/",
          "height": 35
        },
        "outputId": "04436add-402b-49af-bac0-5c6c2d506582"
      },
      "source": [
        "#Look at the shape of both dataframes\n",
        "\n",
        "df_basic.shape, df_rating.shape"
      ],
      "execution_count": 83,
      "outputs": [
        {
          "output_type": "execute_result",
          "data": {
            "text/plain": [
              "((6505830, 9), (1019739, 3))"
            ]
          },
          "metadata": {
            "tags": []
          },
          "execution_count": 83
        }
      ]
    },
    {
      "cell_type": "code",
      "metadata": {
        "id": "5mTUTsMaJulH",
        "colab_type": "code",
        "colab": {}
      },
      "source": [
        "#drop tv/game tags that aren't needed since I am focusing on movies\n",
        "\n",
        "df_basic = df_basic[~df_basic['titleType'].isin(['short', 'tvShort', 'videoGame', 'tvSpecial', 'tvMiniSeries', 'tvMovie', 'tvSeries', 'video', 'short', 'tvEpisode'])]"
      ],
      "execution_count": 0,
      "outputs": []
    },
    {
      "cell_type": "code",
      "metadata": {
        "id": "CwdRTvqrxijN",
        "colab_type": "code",
        "colab": {}
      },
      "source": [
        "df_basic = df_basic.drop(columns=['originalTitle', 'isAdult', 'originalTitle','runtimeMinutes', 'endYear', 'titleType'])"
      ],
      "execution_count": 0,
      "outputs": []
    },
    {
      "cell_type": "code",
      "metadata": {
        "id": "8xae1xnZJ7FI",
        "colab_type": "code",
        "colab": {}
      },
      "source": [
        ""
      ],
      "execution_count": 0,
      "outputs": []
    },
    {
      "cell_type": "code",
      "metadata": {
        "id": "se46XeDCLFop",
        "colab_type": "code",
        "colab": {}
      },
      "source": [
        "df_basic['genres'] = df_basic['genres'].str.lower()"
      ],
      "execution_count": 0,
      "outputs": []
    },
    {
      "cell_type": "code",
      "metadata": {
        "id": "vllUdkEVXF9F",
        "colab_type": "code",
        "colab": {}
      },
      "source": [
        "#Need to write a function\n",
        "\n",
        "#X = 'drama'\n",
        "\n",
        "#def wrangle(X):\n",
        "#  X = X.copy()\n",
        "#  X = Y\n",
        "#  Y = df_basic['genres'].str.contains(X)\n",
        "#  df_basic.loc[Y, 'genres'] = X\n",
        "#  return X\n"
      ],
      "execution_count": 0,
      "outputs": []
    },
    {
      "cell_type": "code",
      "metadata": {
        "id": "lpYGUo3FZyfe",
        "colab_type": "code",
        "colab": {}
      },
      "source": [
        "drama = df_basic['genres'].str.contains('drama')\n",
        "comedy = df_basic['genres'].str.contains('comedy')\n",
        "documentary = df_basic['genres'].str.contains('documentary')\n",
        "romance = df_basic['genres'].str.contains('romance')\n",
        "family = df_basic['genres'].str.contains('family')\n",
        "animation = df_basic['genres'].str.contains('animation')\n",
        "crime = df_basic['genres'].str.contains('crime')\n",
        "action = df_basic['genres'].str.contains('action')\n",
        "adventure = df_basic['genres'].str.contains('adventure')\n",
        "mystery = df_basic['genres'].str.contains('mystery')\n",
        "musical = df_basic['genres'].str.contains('musical')\n",
        "thriller = df_basic['genres'].str.contains('thriller')\n",
        "horror = df_basic['genres'].str.contains('horror')\n",
        "sci_fi = df_basic['genres'].str.contains('sci')\n",
        "fantasy = df_basic['genres'].str.contains('fantasy')\n",
        "war = df_basic['genres'].str.contains('war')\n",
        "western = df_basic['genres'].str.contains('western')\n",
        "film_noir = df_basic['genres'].str.contains('film')\n",
        "mystery = df_basic['genres'].str.contains('mystery')\n",
        "history = df_basic['genres'].str.contains('history')\n",
        "sport = df_basic['genres'].str.contains('sport')\n",
        "biography = df_basic['genres'].str.contains('biography')"
      ],
      "execution_count": 0,
      "outputs": []
    },
    {
      "cell_type": "code",
      "metadata": {
        "id": "x3RZOqn2Z3Cn",
        "colab_type": "code",
        "colab": {}
      },
      "source": [
        "df_basic.loc[drama, 'genres'] = 'drama'\n",
        "df_basic.loc[comedy, 'genres'] = 'comedy'\n",
        "df_basic.loc[documentary, 'genres'] = 'documentary'\n",
        "df_basic.loc[romance, 'genres'] = 'romance'\n",
        "df_basic.loc[family, 'genres'] = 'family'\n",
        "df_basic.loc[animation, 'genres'] = 'animation'\n",
        "df_basic.loc[crime, 'genres'] = 'crime'\n",
        "df_basic.loc[action, 'genres'] = 'action'\n",
        "df_basic.loc[adventure, 'genres'] = 'adventure'\n",
        "df_basic.loc[mystery, 'genres'] = 'mystery'\n",
        "df_basic.loc[thriller, 'genres'] = 'thriller'\n",
        "df_basic.loc[horror, 'genres'] = 'horror'\n",
        "df_basic.loc[sci_fi, 'genres']  ='sci_fi'\n",
        "df_basic.loc[fantasy, 'genres']  ='fantasy'\n",
        "df_basic.loc[war, 'genres']  ='war'\n",
        "df_basic.loc[western, 'genres']  ='western'\n",
        "df_basic.loc[film_noir, 'genres'] ='film_noir'\n",
        "df_basic.loc[mystery, 'genres'] ='mystery'\n",
        "df_basic.loc[history, 'genres'] ='history'\n",
        "df_basic.loc[sport, 'genres'] ='sport'\n",
        "df_basic.loc[biography, 'genres'] ='biography'"
      ],
      "execution_count": 0,
      "outputs": []
    },
    {
      "cell_type": "code",
      "metadata": {
        "id": "QefaPhEBZ-AT",
        "colab_type": "code",
        "colab": {}
      },
      "source": [
        "df_basic = df_basic[~df_basic['genres'].isin(['music,reality-tv''reality-tv,talk-show', \n",
        "                                              'news,talk-show',\n",
        "                                              'news,talk-show',\n",
        "                                              'adult,music',\n",
        "                                              'music,talk-show',\n",
        "                                              'news,reality-tv,talk-show',\n",
        "                                              'game-show,music',\n",
        "                                              'adult,short',\n",
        "                                              'music,musical',\n",
        "                                              'adult,musical',\n",
        "                                              'music,musical,reality-tv',\n",
        "                                              'musical,reality-tv',\n",
        "                                              'short',\n",
        "                                              'reality-tv,talk-show',\n",
        "                                              'news',\n",
        "                                              'talk-show',\n",
        "                                              'reality-tv',\n",
        "                                              'game-show',\n",
        "                                              '\\\\n',\n",
        "                                              'music,reality-tv'\n",
        "                                              ])]"
      ],
      "execution_count": 0,
      "outputs": []
    },
    {
      "cell_type": "code",
      "metadata": {
        "id": "lXt7Y9rFK1lB",
        "colab_type": "code",
        "colab": {
          "base_uri": "https://localhost:8080/",
          "height": 454
        },
        "outputId": "a5bace7a-2c06-4dc8-9c99-aba5d1cbb71b"
      },
      "source": [
        "df_basic['genres'].value_counts()"
      ],
      "execution_count": 90,
      "outputs": [
        {
          "output_type": "execute_result",
          "data": {
            "text/plain": [
              "drama          98729\n",
              "documentary    81136\n",
              "comedy         54860\n",
              "romance        29917\n",
              "action         26541\n",
              "thriller       24193\n",
              "horror         22092\n",
              "adventure      17396\n",
              "biography      15347\n",
              "crime          13747\n",
              "mystery        13363\n",
              "fantasy        11359\n",
              "history         9782\n",
              "sci_fi          9734\n",
              "family          9533\n",
              "war             7055\n",
              "western         6571\n",
              "adult           6180\n",
              "sport           5553\n",
              "animation       3644\n",
              "musical         2099\n",
              "music           1484\n",
              "film_noir        686\n",
              "Name: genres, dtype: int64"
            ]
          },
          "metadata": {
            "tags": []
          },
          "execution_count": 90
        }
      ]
    },
    {
      "cell_type": "code",
      "metadata": {
        "id": "cAv0XmpEa7Lp",
        "colab_type": "code",
        "colab": {
          "base_uri": "https://localhost:8080/",
          "height": 35
        },
        "outputId": "989b88ae-9297-48f1-f785-7378cb86c415"
      },
      "source": [
        "df_basic.shape"
      ],
      "execution_count": 91,
      "outputs": [
        {
          "output_type": "execute_result",
          "data": {
            "text/plain": [
              "(471001, 4)"
            ]
          },
          "metadata": {
            "tags": []
          },
          "execution_count": 91
        }
      ]
    },
    {
      "cell_type": "markdown",
      "metadata": {
        "id": "svxecPWBa_ih",
        "colab_type": "text"
      },
      "source": [
        "Merge dataframes"
      ]
    },
    {
      "cell_type": "code",
      "metadata": {
        "id": "mL_SWI56bBrF",
        "colab_type": "code",
        "colab": {}
      },
      "source": [
        "df_imdb = pd.merge(df_basic, df_rating, on='tconst')"
      ],
      "execution_count": 0,
      "outputs": []
    },
    {
      "cell_type": "code",
      "metadata": {
        "id": "MqOVYDDbbFVh",
        "colab_type": "code",
        "colab": {
          "base_uri": "https://localhost:8080/",
          "height": 35
        },
        "outputId": "08b1bf26-1823-4ffe-876a-cc9e8643fae6"
      },
      "source": [
        "df_imdb.shape"
      ],
      "execution_count": 93,
      "outputs": [
        {
          "output_type": "execute_result",
          "data": {
            "text/plain": [
              "(233761, 6)"
            ]
          },
          "metadata": {
            "tags": []
          },
          "execution_count": 93
        }
      ]
    },
    {
      "cell_type": "code",
      "metadata": {
        "id": "uH5hLcGLbHy5",
        "colab_type": "code",
        "colab": {
          "base_uri": "https://localhost:8080/",
          "height": 198
        },
        "outputId": "debcea67-0f91-4cf2-ac54-b4eaf9d8ea83"
      },
      "source": [
        "df_imdb.head()"
      ],
      "execution_count": 94,
      "outputs": [
        {
          "output_type": "execute_result",
          "data": {
            "text/html": [
              "<div>\n",
              "<style scoped>\n",
              "    .dataframe tbody tr th:only-of-type {\n",
              "        vertical-align: middle;\n",
              "    }\n",
              "\n",
              "    .dataframe tbody tr th {\n",
              "        vertical-align: top;\n",
              "    }\n",
              "\n",
              "    .dataframe thead th {\n",
              "        text-align: right;\n",
              "    }\n",
              "</style>\n",
              "<table border=\"1\" class=\"dataframe\">\n",
              "  <thead>\n",
              "    <tr style=\"text-align: right;\">\n",
              "      <th></th>\n",
              "      <th>tconst</th>\n",
              "      <th>primaryTitle</th>\n",
              "      <th>startYear</th>\n",
              "      <th>genres</th>\n",
              "      <th>averageRating</th>\n",
              "      <th>numVotes</th>\n",
              "    </tr>\n",
              "  </thead>\n",
              "  <tbody>\n",
              "    <tr>\n",
              "      <th>0</th>\n",
              "      <td>tt0000009</td>\n",
              "      <td>Miss Jerry</td>\n",
              "      <td>1894</td>\n",
              "      <td>romance</td>\n",
              "      <td>5.4</td>\n",
              "      <td>86</td>\n",
              "    </tr>\n",
              "    <tr>\n",
              "      <th>1</th>\n",
              "      <td>tt0000147</td>\n",
              "      <td>The Corbett-Fitzsimmons Fight</td>\n",
              "      <td>1897</td>\n",
              "      <td>sport</td>\n",
              "      <td>5.2</td>\n",
              "      <td>323</td>\n",
              "    </tr>\n",
              "    <tr>\n",
              "      <th>2</th>\n",
              "      <td>tt0000335</td>\n",
              "      <td>Soldiers of the Cross</td>\n",
              "      <td>1900</td>\n",
              "      <td>biography</td>\n",
              "      <td>6.1</td>\n",
              "      <td>40</td>\n",
              "    </tr>\n",
              "    <tr>\n",
              "      <th>3</th>\n",
              "      <td>tt0000574</td>\n",
              "      <td>The Story of the Kelly Gang</td>\n",
              "      <td>1906</td>\n",
              "      <td>biography</td>\n",
              "      <td>6.1</td>\n",
              "      <td>552</td>\n",
              "    </tr>\n",
              "    <tr>\n",
              "      <th>4</th>\n",
              "      <td>tt0000615</td>\n",
              "      <td>Robbery Under Arms</td>\n",
              "      <td>1907</td>\n",
              "      <td>drama</td>\n",
              "      <td>4.8</td>\n",
              "      <td>14</td>\n",
              "    </tr>\n",
              "  </tbody>\n",
              "</table>\n",
              "</div>"
            ],
            "text/plain": [
              "      tconst                   primaryTitle  ... averageRating numVotes\n",
              "0  tt0000009                     Miss Jerry  ...           5.4       86\n",
              "1  tt0000147  The Corbett-Fitzsimmons Fight  ...           5.2      323\n",
              "2  tt0000335          Soldiers of the Cross  ...           6.1       40\n",
              "3  tt0000574    The Story of the Kelly Gang  ...           6.1      552\n",
              "4  tt0000615             Robbery Under Arms  ...           4.8       14\n",
              "\n",
              "[5 rows x 6 columns]"
            ]
          },
          "metadata": {
            "tags": []
          },
          "execution_count": 94
        }
      ]
    },
    {
      "cell_type": "code",
      "metadata": {
        "id": "H06yE85_bN4G",
        "colab_type": "code",
        "colab": {
          "base_uri": "https://localhost:8080/",
          "height": 145
        },
        "outputId": "e4e8d849-f72a-4034-cef9-cb0bac6b87d1"
      },
      "source": [
        "df_imdb.dtypes"
      ],
      "execution_count": 95,
      "outputs": [
        {
          "output_type": "execute_result",
          "data": {
            "text/plain": [
              "tconst            object\n",
              "primaryTitle      object\n",
              "startYear         object\n",
              "genres            object\n",
              "averageRating    float64\n",
              "numVotes           int64\n",
              "dtype: object"
            ]
          },
          "metadata": {
            "tags": []
          },
          "execution_count": 95
        }
      ]
    },
    {
      "cell_type": "code",
      "metadata": {
        "id": "fvxtwYspbUXY",
        "colab_type": "code",
        "colab": {
          "base_uri": "https://localhost:8080/",
          "height": 35
        },
        "outputId": "4fbadace-8405-4fa1-a0b9-051e03a5a5bc"
      },
      "source": [
        "#convert startYear into numeric\n",
        "\n",
        "df_imdb['startYear'] = pd.Categorical(df_imdb['startYear'])\n",
        "df_imdb['startYear'] =df_imdb['startYear'].cat.codes\n",
        "df_imdb['startYear'].dtypes"
      ],
      "execution_count": 96,
      "outputs": [
        {
          "output_type": "execute_result",
          "data": {
            "text/plain": [
              "dtype('int8')"
            ]
          },
          "metadata": {
            "tags": []
          },
          "execution_count": 96
        }
      ]
    },
    {
      "cell_type": "code",
      "metadata": {
        "id": "DhYq4sm0jglV",
        "colab_type": "code",
        "colab": {}
      },
      "source": [
        "def train_validate_test_split(df, train_percent=.6, validate_percent=.2, seed=None):\n",
        "    np.random.seed(seed)\n",
        "    perm = np.random.permutation(df.index)\n",
        "    m = len(df.index)\n",
        "    train_end = int(train_percent * m)\n",
        "    validate_end = int(validate_percent * m) + train_end\n",
        "    train = df.iloc[perm[:train_end]]\n",
        "    val = df.iloc[perm[train_end:validate_end]]\n",
        "    test = df.iloc[perm[validate_end:]]\n",
        "    return train, val, test"
      ],
      "execution_count": 0,
      "outputs": []
    },
    {
      "cell_type": "code",
      "metadata": {
        "id": "HvYQkIOVj4oL",
        "colab_type": "code",
        "colab": {
          "base_uri": "https://localhost:8080/",
          "height": 781
        },
        "outputId": "2d5b24b9-49e4-4aac-b7af-650d223508c4"
      },
      "source": [
        "train_validate_test_split(df_imdb)"
      ],
      "execution_count": 99,
      "outputs": [
        {
          "output_type": "execute_result",
          "data": {
            "text/plain": [
              "(            tconst             primaryTitle  ...  averageRating numVotes\n",
              " 147452   tt1410281       Rabbit à la Berlin  ...            7.6      729\n",
              " 162550   tt1866132        The Sleeping Girl  ...            6.7       26\n",
              " 120540   tt0453150                   Mazhai  ...            4.7      177\n",
              " 81652    tt0199091  Tis zileias ta kamomata  ...            5.8       95\n",
              " 709      tt0009142      He Comes Up Smiling  ...            6.1       41\n",
              " ...            ...                      ...  ...            ...      ...\n",
              " 230816   tt8929704         Maniyar Kudumbam  ...            4.8       13\n",
              " 157849   tt1727373            The Kill Hole  ...            4.1      344\n",
              " 144692   tt1329345  Forgetful Not Forgotten  ...            8.2        9\n",
              " 137458  tt11091724            Missed Nuance  ...            9.4        5\n",
              " 142757   tt1276988            Summer Eleven  ...            6.2      337\n",
              " \n",
              " [140256 rows x 6 columns],\n",
              "            tconst          primaryTitle  ...  averageRating numVotes\n",
              " 46835   tt0089921               Rip-Off  ...            6.7        7\n",
              " 84731   tt0214137            Skadeskutt  ...            6.2       50\n",
              " 169493  tt2147193      An Innocent Hell  ...            7.0        7\n",
              " 19650   tt0046790         Black Tuesday  ...            6.5      262\n",
              " 111404  tt0376616       The Blue in You  ...            5.6       15\n",
              " ...           ...                   ...  ...            ...      ...\n",
              " 141739  tt1242618              Deadline  ...            4.6     4961\n",
              " 67238   tt0138075   Satan in High Heels  ...            5.7      351\n",
              " 207021  tt5199110  Neuseeland: Der Film  ...            7.4        5\n",
              " 200621  tt4508542           Born to Win  ...            4.7      307\n",
              " 126990  tt0804508      Movie Pizza Love  ...            8.0        8\n",
              " \n",
              " [46752 rows x 6 columns],\n",
              "             tconst              primaryTitle  ...  averageRating numVotes\n",
              " 147563   tt1413233  The Most Beautiful Thing  ...            7.0        5\n",
              " 132824  tt10080052               Liza's Tale  ...            8.4        5\n",
              " 150706   tt1513038   Calamari Union (Remake)  ...            5.6       26\n",
              " 25605    tt0055269              Our Marriage  ...            7.4       65\n",
              " 206905   tt5186078            Roxy the Movie  ...            8.8      169\n",
              " ...            ...                       ...  ...            ...      ...\n",
              " 79454    tt0190318      Compañero Presidente  ...            7.7       17\n",
              " 3678     tt0020994          Her Majesty Love  ...            7.4       23\n",
              " 205534   tt5065320                 Kaliarnta  ...            9.0       29\n",
              " 163112   tt1887731            Drei Patienten  ...            6.0        7\n",
              " 57189    tt0109679             Drága kisfiam  ...            6.1        9\n",
              " \n",
              " [46753 rows x 6 columns])"
            ]
          },
          "metadata": {
            "tags": []
          },
          "execution_count": 99
        }
      ]
    },
    {
      "cell_type": "code",
      "metadata": {
        "id": "nrc8DyqolD6Z",
        "colab_type": "code",
        "colab": {}
      },
      "source": [
        "#Arrange data into X features matrix and y target vector\n",
        "\n",
        "target = 'averageRating'\n",
        "X_train = train.drop(columns=target)\n",
        "y_train = train[target]\n",
        "X_val = val.drop(columns=target)\n",
        "y_val = val[target]\n",
        "X_test = test"
      ],
      "execution_count": 0,
      "outputs": []
    },
    {
      "cell_type": "code",
      "metadata": {
        "id": "Dpof-ds-qUYO",
        "colab_type": "code",
        "colab": {}
      },
      "source": [
        "#Need to make ratings a categorical variable to fit an xgboost model\n",
        "\n",
        "#from xgboost import XGBClassifier\n",
        "\n",
        "#pipeline = make_pipeline(\n",
        "#    ce.OrdinalEncoder(), \n",
        "#    XGBClassifier(n_estimators=100, random_state=42, n_jobs=-1)\n",
        "#)\n",
        "\n",
        "#pipeline.fit(X_train, y_train)"
      ],
      "execution_count": 0,
      "outputs": []
    },
    {
      "cell_type": "code",
      "metadata": {
        "id": "zZVnDLAztXDF",
        "colab_type": "code",
        "colab": {}
      },
      "source": [
        "#from sklearn.metrics import accuracy_score\n",
        "#y_pred = pipeline.predict(X_val)\n",
        "#print('Validation Accuracy', accuracy_score(y_val, y_pred))"
      ],
      "execution_count": 0,
      "outputs": []
    }
  ]
}